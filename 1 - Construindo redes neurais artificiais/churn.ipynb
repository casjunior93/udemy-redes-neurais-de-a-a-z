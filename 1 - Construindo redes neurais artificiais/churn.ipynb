{
 "cells": [
  {
   "cell_type": "markdown",
   "id": "23d66899-00ef-4d44-b459-987aa3e045f9",
   "metadata": {},
   "source": [
    "# Libraries"
   ]
  },
  {
   "cell_type": "code",
   "execution_count": 1,
   "id": "b05730b9-256c-4c0e-845f-ffd863909055",
   "metadata": {},
   "outputs": [],
   "source": [
    "import pandas as pd\n",
    "import numpy as np\n",
    "from sklearn.preprocessing import LabelEncoder, OneHotEncoder\n",
    "from sklearn.preprocessing import StandardScaler\n",
    "from sklearn.compose import  make_column_transformer\n",
    "from sklearn.model_selection import train_test_split\n",
    "from sklearn.metrics import confusion_matrix\n",
    "from keras.models import Sequential\n",
    "from keras.layers import Dense\n",
    "import seaborn as sn\n",
    "import matplotlib.pyplot as plt\n",
    "\n",
    "import warnings\n",
    "warnings.filterwarnings('ignore')\n",
    "\n",
    "pd.options.display.float_format = '{:.5f}'.format"
   ]
  },
  {
   "cell_type": "markdown",
   "id": "01cdb223-76be-4c12-85fd-69da0b40d22c",
   "metadata": {},
   "source": [
    "# Import data"
   ]
  },
  {
   "cell_type": "code",
   "execution_count": 3,
   "id": "9df0f1fa-f8cf-4d66-8200-7906a3498aaf",
   "metadata": {},
   "outputs": [],
   "source": [
    "dataset = pd.read_csv('data/Churn_Modelling.csv')"
   ]
  },
  {
   "cell_type": "code",
   "execution_count": 4,
   "id": "f7c92206-20ed-4fbd-9c5f-c299997b32ca",
   "metadata": {},
   "outputs": [
    {
     "data": {
      "text/html": [
       "<div>\n",
       "<style scoped>\n",
       "    .dataframe tbody tr th:only-of-type {\n",
       "        vertical-align: middle;\n",
       "    }\n",
       "\n",
       "    .dataframe tbody tr th {\n",
       "        vertical-align: top;\n",
       "    }\n",
       "\n",
       "    .dataframe thead th {\n",
       "        text-align: right;\n",
       "    }\n",
       "</style>\n",
       "<table border=\"1\" class=\"dataframe\">\n",
       "  <thead>\n",
       "    <tr style=\"text-align: right;\">\n",
       "      <th></th>\n",
       "      <th>RowNumber</th>\n",
       "      <th>CustomerId</th>\n",
       "      <th>Surname</th>\n",
       "      <th>CreditScore</th>\n",
       "      <th>Geography</th>\n",
       "      <th>Gender</th>\n",
       "      <th>Age</th>\n",
       "      <th>Tenure</th>\n",
       "      <th>Balance</th>\n",
       "      <th>NumOfProducts</th>\n",
       "      <th>HasCrCard</th>\n",
       "      <th>IsActiveMember</th>\n",
       "      <th>EstimatedSalary</th>\n",
       "      <th>Exited</th>\n",
       "    </tr>\n",
       "  </thead>\n",
       "  <tbody>\n",
       "    <tr>\n",
       "      <th>0</th>\n",
       "      <td>1</td>\n",
       "      <td>15634602</td>\n",
       "      <td>Hargrave</td>\n",
       "      <td>619</td>\n",
       "      <td>France</td>\n",
       "      <td>Female</td>\n",
       "      <td>42</td>\n",
       "      <td>2</td>\n",
       "      <td>0.00000</td>\n",
       "      <td>1</td>\n",
       "      <td>1</td>\n",
       "      <td>1</td>\n",
       "      <td>101348.88000</td>\n",
       "      <td>1</td>\n",
       "    </tr>\n",
       "    <tr>\n",
       "      <th>1</th>\n",
       "      <td>2</td>\n",
       "      <td>15647311</td>\n",
       "      <td>Hill</td>\n",
       "      <td>608</td>\n",
       "      <td>Spain</td>\n",
       "      <td>Female</td>\n",
       "      <td>41</td>\n",
       "      <td>1</td>\n",
       "      <td>83807.86000</td>\n",
       "      <td>1</td>\n",
       "      <td>0</td>\n",
       "      <td>1</td>\n",
       "      <td>112542.58000</td>\n",
       "      <td>0</td>\n",
       "    </tr>\n",
       "    <tr>\n",
       "      <th>2</th>\n",
       "      <td>3</td>\n",
       "      <td>15619304</td>\n",
       "      <td>Onio</td>\n",
       "      <td>502</td>\n",
       "      <td>France</td>\n",
       "      <td>Female</td>\n",
       "      <td>42</td>\n",
       "      <td>8</td>\n",
       "      <td>159660.80000</td>\n",
       "      <td>3</td>\n",
       "      <td>1</td>\n",
       "      <td>0</td>\n",
       "      <td>113931.57000</td>\n",
       "      <td>1</td>\n",
       "    </tr>\n",
       "    <tr>\n",
       "      <th>3</th>\n",
       "      <td>4</td>\n",
       "      <td>15701354</td>\n",
       "      <td>Boni</td>\n",
       "      <td>699</td>\n",
       "      <td>France</td>\n",
       "      <td>Female</td>\n",
       "      <td>39</td>\n",
       "      <td>1</td>\n",
       "      <td>0.00000</td>\n",
       "      <td>2</td>\n",
       "      <td>0</td>\n",
       "      <td>0</td>\n",
       "      <td>93826.63000</td>\n",
       "      <td>0</td>\n",
       "    </tr>\n",
       "    <tr>\n",
       "      <th>4</th>\n",
       "      <td>5</td>\n",
       "      <td>15737888</td>\n",
       "      <td>Mitchell</td>\n",
       "      <td>850</td>\n",
       "      <td>Spain</td>\n",
       "      <td>Female</td>\n",
       "      <td>43</td>\n",
       "      <td>2</td>\n",
       "      <td>125510.82000</td>\n",
       "      <td>1</td>\n",
       "      <td>1</td>\n",
       "      <td>1</td>\n",
       "      <td>79084.10000</td>\n",
       "      <td>0</td>\n",
       "    </tr>\n",
       "  </tbody>\n",
       "</table>\n",
       "</div>"
      ],
      "text/plain": [
       "   RowNumber  CustomerId   Surname  CreditScore Geography  Gender  Age  \\\n",
       "0          1    15634602  Hargrave          619    France  Female   42   \n",
       "1          2    15647311      Hill          608     Spain  Female   41   \n",
       "2          3    15619304      Onio          502    France  Female   42   \n",
       "3          4    15701354      Boni          699    France  Female   39   \n",
       "4          5    15737888  Mitchell          850     Spain  Female   43   \n",
       "\n",
       "   Tenure      Balance  NumOfProducts  HasCrCard  IsActiveMember  \\\n",
       "0       2      0.00000              1          1               1   \n",
       "1       1  83807.86000              1          0               1   \n",
       "2       8 159660.80000              3          1               0   \n",
       "3       1      0.00000              2          0               0   \n",
       "4       2 125510.82000              1          1               1   \n",
       "\n",
       "   EstimatedSalary  Exited  \n",
       "0     101348.88000       1  \n",
       "1     112542.58000       0  \n",
       "2     113931.57000       1  \n",
       "3      93826.63000       0  \n",
       "4      79084.10000       0  "
      ]
     },
     "execution_count": 4,
     "metadata": {},
     "output_type": "execute_result"
    }
   ],
   "source": [
    "dataset.head()"
   ]
  },
  {
   "cell_type": "markdown",
   "id": "078bc698-c42a-46ba-8a06-ff4acbc2ee77",
   "metadata": {},
   "source": [
    "# Data preparation"
   ]
  },
  {
   "cell_type": "markdown",
   "id": "f0e74937-03d0-46c6-96f4-0495a4eb77bc",
   "metadata": {},
   "source": [
    "## Split independent and dependent data"
   ]
  },
  {
   "cell_type": "code",
   "execution_count": 5,
   "id": "93e7f999-2929-4901-b8d1-5c502cd062d1",
   "metadata": {},
   "outputs": [],
   "source": [
    "X = dataset.iloc[:, 3:13].values\n",
    "y = dataset.iloc[:, 13].values"
   ]
  },
  {
   "cell_type": "markdown",
   "id": "1c222f74-448e-41d8-be3d-4a612586ae2f",
   "metadata": {},
   "source": [
    "## Encoders - Categorical to numerical"
   ]
  },
  {
   "cell_type": "code",
   "execution_count": 6,
   "id": "8d81ae5f-61e8-4b27-96bf-c56f9b49d393",
   "metadata": {},
   "outputs": [],
   "source": [
    "# Variable Geography\n",
    "labelEncoder_x_1 = LabelEncoder()\n",
    "X[:,1] = labelEncoder_x_1.fit_transform(X[:,1])\n",
    "\n",
    "# Variable Gender\n",
    "labelEncoder_x_2 = LabelEncoder()\n",
    "X[:,2] = labelEncoder_x_1.fit_transform(X[:,2])\n",
    "\n",
    "# Creating dummy variables for Gography values\n",
    "oneHotEncoder = make_column_transformer((OneHotEncoder(categories = 'auto', sparse = False), [1]), remainder = 'passthrough')\n",
    "X = oneHotEncoder.fit_transform(X)\n",
    "\n",
    "#Resolving problem with multicollinearity of dummies variables excluding one collumn from dummies variables created for the feature Geography.\n",
    "# https://www.algosome.com/articles/dummy-variable-trap-regression.html\n",
    "X = X[:, 1:]\n"
   ]
  },
  {
   "cell_type": "markdown",
   "id": "8edf9dec-36a5-4b65-af71-a41e0fa6fe15",
   "metadata": {},
   "source": [
    "## Separating training and testing data"
   ]
  },
  {
   "cell_type": "code",
   "execution_count": 7,
   "id": "4fd1aff6-7224-4d57-a13e-9326f431b160",
   "metadata": {},
   "outputs": [],
   "source": [
    "X_train, X_test, y_train, y_test = train_test_split(X, y, test_size = 0.2, random_state = 42)"
   ]
  },
  {
   "cell_type": "markdown",
   "id": "962f377f-fea0-4f77-97e4-db7dc662ae7f",
   "metadata": {},
   "source": [
    "## Feature scaling"
   ]
  },
  {
   "cell_type": "code",
   "execution_count": 8,
   "id": "03d1777c-56bc-4912-8319-e5bd383b8637",
   "metadata": {},
   "outputs": [],
   "source": [
    "standardScaler = StandardScaler()\n",
    "X_train = standardScaler.fit_transform(X_train)\n",
    "X_test = standardScaler.fit_transform(X_test)"
   ]
  },
  {
   "cell_type": "markdown",
   "id": "421bcc67-cf8b-4397-bc35-747195473ecf",
   "metadata": {},
   "source": [
    "# Modeling neural network"
   ]
  },
  {
   "cell_type": "markdown",
   "id": "dd46bc93-3a8d-4544-ad14-c57934c5a657",
   "metadata": {},
   "source": [
    "## Creating model"
   ]
  },
  {
   "cell_type": "code",
   "execution_count": 12,
   "id": "3bdbf059-4ca8-4a54-9ddd-22908b1790a3",
   "metadata": {},
   "outputs": [],
   "source": [
    "classifier = Sequential()\n",
    "\n",
    "# Creating layers\n",
    "\n",
    "# Dense layer, with 6 neurons, with uniform initialization and 6 neurons in the input layer\n",
    "\n",
    "'''Is possible to use the mean between the number of neurons \n",
    "in the input layer with the number of neurons in then output\n",
    "layer to configure the number of neurons in the hidden layers.\n",
    "This is one way to configure the quantity of neurons in the \n",
    "hiddens layers.'''\n",
    "\n",
    "classifier.add(Dense(units = 6, kernel_initializer = 'uniform', activation = 'relu', input_dim = 11))\n",
    "classifier.add(Dense(units = 6, kernel_initializer = 'uniform', activation = 'relu'))\n",
    "classifier.add(Dense(units = 1, kernel_initializer = 'uniform', activation = 'sigmoid'))"
   ]
  },
  {
   "cell_type": "markdown",
   "id": "25889fd3-bbec-4d50-be65-5f8f90d3b553",
   "metadata": {},
   "source": [
    "## Compiling model"
   ]
  },
  {
   "cell_type": "code",
   "execution_count": 13,
   "id": "f89a7b72-cf09-4e79-a9a3-a781440fca8a",
   "metadata": {},
   "outputs": [],
   "source": [
    "classifier.compile(optimizer='adam', loss='binary_crossentropy', metrics=['accuracy'])"
   ]
  },
  {
   "cell_type": "markdown",
   "id": "dcb97592-271f-4697-bc8c-5ebee35d477b",
   "metadata": {},
   "source": [
    "## Training model"
   ]
  },
  {
   "cell_type": "code",
   "execution_count": 14,
   "id": "0c4e6aea-30aa-41b9-b340-cbdc21526daa",
   "metadata": {},
   "outputs": [
    {
     "name": "stdout",
     "output_type": "stream",
     "text": [
      "Epoch 1/100\n",
      "800/800 [==============================] - 5s 5ms/step - loss: 0.4801 - accuracy: 0.7945\n",
      "Epoch 2/100\n",
      "800/800 [==============================] - 4s 4ms/step - loss: 0.4309 - accuracy: 0.7945\n",
      "Epoch 3/100\n",
      "800/800 [==============================] - 3s 4ms/step - loss: 0.4240 - accuracy: 0.8021\n",
      "Epoch 4/100\n",
      "800/800 [==============================] - 3s 4ms/step - loss: 0.4196 - accuracy: 0.8255\n",
      "Epoch 5/100\n",
      "800/800 [==============================] - 4s 5ms/step - loss: 0.4180 - accuracy: 0.8264\n",
      "Epoch 6/100\n",
      "800/800 [==============================] - 4s 5ms/step - loss: 0.4158 - accuracy: 0.8311\n",
      "Epoch 7/100\n",
      "800/800 [==============================] - 4s 5ms/step - loss: 0.4141 - accuracy: 0.8320\n",
      "Epoch 8/100\n",
      "800/800 [==============================] - 3s 4ms/step - loss: 0.4130 - accuracy: 0.8320\n",
      "Epoch 9/100\n",
      "800/800 [==============================] - 4s 5ms/step - loss: 0.4121 - accuracy: 0.8330\n",
      "Epoch 10/100\n",
      "800/800 [==============================] - 4s 5ms/step - loss: 0.4109 - accuracy: 0.8346\n",
      "Epoch 11/100\n",
      "800/800 [==============================] - 4s 5ms/step - loss: 0.4106 - accuracy: 0.8342\n",
      "Epoch 12/100\n",
      "800/800 [==============================] - 4s 5ms/step - loss: 0.4092 - accuracy: 0.8338\n",
      "Epoch 13/100\n",
      "800/800 [==============================] - 4s 5ms/step - loss: 0.4091 - accuracy: 0.8329\n",
      "Epoch 14/100\n",
      "800/800 [==============================] - 5s 6ms/step - loss: 0.4078 - accuracy: 0.8346\n",
      "Epoch 15/100\n",
      "800/800 [==============================] - 5s 6ms/step - loss: 0.4081 - accuracy: 0.8351\n",
      "Epoch 16/100\n",
      "800/800 [==============================] - 4s 5ms/step - loss: 0.4072 - accuracy: 0.8346\n",
      "Epoch 17/100\n",
      "800/800 [==============================] - 3s 4ms/step - loss: 0.4071 - accuracy: 0.8345\n",
      "Epoch 18/100\n",
      "800/800 [==============================] - 4s 5ms/step - loss: 0.4066 - accuracy: 0.8345\n",
      "Epoch 19/100\n",
      "800/800 [==============================] - 4s 5ms/step - loss: 0.4063 - accuracy: 0.8355\n",
      "Epoch 20/100\n",
      "800/800 [==============================] - 4s 4ms/step - loss: 0.4065 - accuracy: 0.8359\n",
      "Epoch 21/100\n",
      "800/800 [==============================] - 3s 4ms/step - loss: 0.4061 - accuracy: 0.8341\n",
      "Epoch 22/100\n",
      "800/800 [==============================] - 4s 5ms/step - loss: 0.4052 - accuracy: 0.8332\n",
      "Epoch 23/100\n",
      "800/800 [==============================] - 4s 4ms/step - loss: 0.4060 - accuracy: 0.8347\n",
      "Epoch 24/100\n",
      "800/800 [==============================] - 4s 4ms/step - loss: 0.4052 - accuracy: 0.8353\n",
      "Epoch 25/100\n",
      "800/800 [==============================] - 3s 4ms/step - loss: 0.4050 - accuracy: 0.8335\n",
      "Epoch 26/100\n",
      "800/800 [==============================] - 3s 4ms/step - loss: 0.4049 - accuracy: 0.8356\n",
      "Epoch 27/100\n",
      "800/800 [==============================] - 4s 5ms/step - loss: 0.4048 - accuracy: 0.8361\n",
      "Epoch 28/100\n",
      "800/800 [==============================] - 4s 5ms/step - loss: 0.4044 - accuracy: 0.8334\n",
      "Epoch 29/100\n",
      "800/800 [==============================] - 4s 5ms/step - loss: 0.4046 - accuracy: 0.8346\n",
      "Epoch 30/100\n",
      "800/800 [==============================] - 4s 5ms/step - loss: 0.4047 - accuracy: 0.8347\n",
      "Epoch 31/100\n",
      "800/800 [==============================] - 4s 5ms/step - loss: 0.4043 - accuracy: 0.8340\n",
      "Epoch 32/100\n",
      "800/800 [==============================] - 4s 5ms/step - loss: 0.4042 - accuracy: 0.8350\n",
      "Epoch 33/100\n",
      "800/800 [==============================] - 4s 4ms/step - loss: 0.4042 - accuracy: 0.8349\n",
      "Epoch 34/100\n",
      "800/800 [==============================] - 3s 4ms/step - loss: 0.4040 - accuracy: 0.8336\n",
      "Epoch 35/100\n",
      "800/800 [==============================] - 4s 5ms/step - loss: 0.4036 - accuracy: 0.8335\n",
      "Epoch 36/100\n",
      "800/800 [==============================] - 4s 5ms/step - loss: 0.4037 - accuracy: 0.8338\n",
      "Epoch 37/100\n",
      "800/800 [==============================] - 3s 4ms/step - loss: 0.4038 - accuracy: 0.8334\n",
      "Epoch 38/100\n",
      "800/800 [==============================] - 3s 4ms/step - loss: 0.4032 - accuracy: 0.8330\n",
      "Epoch 39/100\n",
      "800/800 [==============================] - 3s 4ms/step - loss: 0.4033 - accuracy: 0.8356\n",
      "Epoch 40/100\n",
      "800/800 [==============================] - 4s 4ms/step - loss: 0.4038 - accuracy: 0.8340\n",
      "Epoch 41/100\n",
      "800/800 [==============================] - 4s 4ms/step - loss: 0.4031 - accuracy: 0.8334\n",
      "Epoch 42/100\n",
      "800/800 [==============================] - 4s 4ms/step - loss: 0.4032 - accuracy: 0.8346\n",
      "Epoch 43/100\n",
      "800/800 [==============================] - 3s 4ms/step - loss: 0.4031 - accuracy: 0.8363\n",
      "Epoch 44/100\n",
      "800/800 [==============================] - 3s 4ms/step - loss: 0.4028 - accuracy: 0.8356\n",
      "Epoch 45/100\n",
      "800/800 [==============================] - 4s 5ms/step - loss: 0.4031 - accuracy: 0.8340\n",
      "Epoch 46/100\n",
      "800/800 [==============================] - 4s 5ms/step - loss: 0.4025 - accuracy: 0.8364\n",
      "Epoch 47/100\n",
      "800/800 [==============================] - 4s 5ms/step - loss: 0.4025 - accuracy: 0.8354\n",
      "Epoch 48/100\n",
      "800/800 [==============================] - 4s 5ms/step - loss: 0.4031 - accuracy: 0.8345\n",
      "Epoch 49/100\n",
      "800/800 [==============================] - 4s 5ms/step - loss: 0.4030 - accuracy: 0.8344\n",
      "Epoch 50/100\n",
      "800/800 [==============================] - 4s 4ms/step - loss: 0.4025 - accuracy: 0.8334\n",
      "Epoch 51/100\n",
      "800/800 [==============================] - 3s 4ms/step - loss: 0.4025 - accuracy: 0.8356\n",
      "Epoch 52/100\n",
      "800/800 [==============================] - 3s 4ms/step - loss: 0.4021 - accuracy: 0.8342\n",
      "Epoch 53/100\n",
      "800/800 [==============================] - 3s 4ms/step - loss: 0.4030 - accuracy: 0.8341\n",
      "Epoch 54/100\n",
      "800/800 [==============================] - 4s 5ms/step - loss: 0.4021 - accuracy: 0.8349\n",
      "Epoch 55/100\n",
      "800/800 [==============================] - 4s 5ms/step - loss: 0.4028 - accuracy: 0.8347\n",
      "Epoch 56/100\n",
      "800/800 [==============================] - 3s 4ms/step - loss: 0.4025 - accuracy: 0.8344\n",
      "Epoch 57/100\n",
      "800/800 [==============================] - 3s 4ms/step - loss: 0.4022 - accuracy: 0.8350\n",
      "Epoch 58/100\n",
      "800/800 [==============================] - 4s 5ms/step - loss: 0.4024 - accuracy: 0.8341\n",
      "Epoch 59/100\n",
      "800/800 [==============================] - 4s 4ms/step - loss: 0.4014 - accuracy: 0.8370\n",
      "Epoch 60/100\n",
      "800/800 [==============================] - 4s 4ms/step - loss: 0.4021 - accuracy: 0.8355\n",
      "Epoch 61/100\n",
      "800/800 [==============================] - 3s 4ms/step - loss: 0.4027 - accuracy: 0.8338\n",
      "Epoch 62/100\n",
      "800/800 [==============================] - 4s 5ms/step - loss: 0.4023 - accuracy: 0.8355\n",
      "Epoch 63/100\n",
      "800/800 [==============================] - 4s 5ms/step - loss: 0.4027 - accuracy: 0.8335\n",
      "Epoch 64/100\n",
      "800/800 [==============================] - 4s 5ms/step - loss: 0.4022 - accuracy: 0.8342\n",
      "Epoch 65/100\n",
      "800/800 [==============================] - 4s 5ms/step - loss: 0.4021 - accuracy: 0.8350\n",
      "Epoch 66/100\n",
      "800/800 [==============================] - 4s 5ms/step - loss: 0.4022 - accuracy: 0.8344\n",
      "Epoch 67/100\n",
      "800/800 [==============================] - 4s 4ms/step - loss: 0.4021 - accuracy: 0.8349\n",
      "Epoch 68/100\n",
      "800/800 [==============================] - 4s 4ms/step - loss: 0.4018 - accuracy: 0.8346\n",
      "Epoch 69/100\n",
      "800/800 [==============================] - 3s 4ms/step - loss: 0.4020 - accuracy: 0.8371\n",
      "Epoch 70/100\n",
      "800/800 [==============================] - 3s 4ms/step - loss: 0.4020 - accuracy: 0.8349\n",
      "Epoch 71/100\n",
      "800/800 [==============================] - 4s 4ms/step - loss: 0.4017 - accuracy: 0.8353\n",
      "Epoch 72/100\n",
      "800/800 [==============================] - 4s 5ms/step - loss: 0.4018 - accuracy: 0.8355\n",
      "Epoch 73/100\n",
      "800/800 [==============================] - 4s 4ms/step - loss: 0.4019 - accuracy: 0.8363\n",
      "Epoch 74/100\n",
      "800/800 [==============================] - 3s 4ms/step - loss: 0.4016 - accuracy: 0.8336\n",
      "Epoch 75/100\n",
      "800/800 [==============================] - 3s 4ms/step - loss: 0.4020 - accuracy: 0.8357\n",
      "Epoch 76/100\n",
      "800/800 [==============================] - 4s 5ms/step - loss: 0.4017 - accuracy: 0.8359\n",
      "Epoch 77/100\n",
      "800/800 [==============================] - 4s 5ms/step - loss: 0.4016 - accuracy: 0.8349\n",
      "Epoch 78/100\n",
      "800/800 [==============================] - 3s 4ms/step - loss: 0.4019 - accuracy: 0.8342\n",
      "Epoch 79/100\n",
      "800/800 [==============================] - 4s 5ms/step - loss: 0.4014 - accuracy: 0.8347\n",
      "Epoch 80/100\n",
      "800/800 [==============================] - 4s 5ms/step - loss: 0.4018 - accuracy: 0.8365\n",
      "Epoch 81/100\n",
      "800/800 [==============================] - 4s 5ms/step - loss: 0.4023 - accuracy: 0.8345\n",
      "Epoch 82/100\n",
      "800/800 [==============================] - 4s 5ms/step - loss: 0.4018 - accuracy: 0.8357\n",
      "Epoch 83/100\n",
      "800/800 [==============================] - 3s 4ms/step - loss: 0.4020 - accuracy: 0.8349\n",
      "Epoch 84/100\n",
      "800/800 [==============================] - 4s 4ms/step - loss: 0.4015 - accuracy: 0.8349\n",
      "Epoch 85/100\n",
      "800/800 [==============================] - 4s 5ms/step - loss: 0.4012 - accuracy: 0.8345\n",
      "Epoch 86/100\n",
      "800/800 [==============================] - 4s 4ms/step - loss: 0.4018 - accuracy: 0.8355\n",
      "Epoch 87/100\n",
      "800/800 [==============================] - 3s 4ms/step - loss: 0.4017 - accuracy: 0.8353\n",
      "Epoch 88/100\n",
      "800/800 [==============================] - 3s 4ms/step - loss: 0.4015 - accuracy: 0.8345\n",
      "Epoch 89/100\n",
      "800/800 [==============================] - 4s 5ms/step - loss: 0.4019 - accuracy: 0.8347\n",
      "Epoch 90/100\n",
      "800/800 [==============================] - 3s 4ms/step - loss: 0.4023 - accuracy: 0.8345\n",
      "Epoch 91/100\n",
      "800/800 [==============================] - 4s 5ms/step - loss: 0.4015 - accuracy: 0.8354\n",
      "Epoch 92/100\n",
      "800/800 [==============================] - 3s 4ms/step - loss: 0.4016 - accuracy: 0.8347\n",
      "Epoch 93/100\n",
      "800/800 [==============================] - 4s 4ms/step - loss: 0.4016 - accuracy: 0.8356\n",
      "Epoch 94/100\n",
      "800/800 [==============================] - 4s 5ms/step - loss: 0.4020 - accuracy: 0.8347\n",
      "Epoch 95/100\n",
      "800/800 [==============================] - 4s 5ms/step - loss: 0.4020 - accuracy: 0.8353\n",
      "Epoch 96/100\n",
      "800/800 [==============================] - 4s 5ms/step - loss: 0.4016 - accuracy: 0.8353\n",
      "Epoch 97/100\n",
      "800/800 [==============================] - 4s 5ms/step - loss: 0.4019 - accuracy: 0.8355\n",
      "Epoch 98/100\n",
      "800/800 [==============================] - 4s 5ms/step - loss: 0.4010 - accuracy: 0.8340\n",
      "Epoch 99/100\n",
      "800/800 [==============================] - 4s 5ms/step - loss: 0.4020 - accuracy: 0.8344\n",
      "Epoch 100/100\n",
      "800/800 [==============================] - 3s 4ms/step - loss: 0.4017 - accuracy: 0.8354\n",
      "CPU times: total: 11min 58s\n",
      "Wall time: 6min 5s\n"
     ]
    },
    {
     "data": {
      "text/plain": [
       "<keras.callbacks.History at 0x2d64c0e32b0>"
      ]
     },
     "execution_count": 14,
     "metadata": {},
     "output_type": "execute_result"
    }
   ],
   "source": [
    "%%time\n",
    "classifier.fit(X_train, y_train, batch_size=10, epochs=100)"
   ]
  },
  {
   "cell_type": "markdown",
   "id": "38d7b26f-7cc2-4fce-a485-e9b700e1fa5a",
   "metadata": {},
   "source": [
    "# Evaluating the model"
   ]
  },
  {
   "cell_type": "code",
   "execution_count": 15,
   "id": "b82728f4-8aa2-4530-b43c-0777c2e00ca9",
   "metadata": {},
   "outputs": [
    {
     "name": "stdout",
     "output_type": "stream",
     "text": [
      "63/63 [==============================] - 1s 3ms/step\n"
     ]
    }
   ],
   "source": [
    "y_pred = classifier.predict(X_test)"
   ]
  },
  {
   "cell_type": "markdown",
   "id": "b665e3f9-757e-4b0c-8aca-a5efddf75f4b",
   "metadata": {},
   "source": [
    "## Apply threshold"
   ]
  },
  {
   "cell_type": "code",
   "execution_count": 16,
   "id": "df2f6a47-b92e-4f1a-a093-755947e17585",
   "metadata": {},
   "outputs": [],
   "source": [
    "y_pred = (y_pred > 0.5)"
   ]
  },
  {
   "cell_type": "markdown",
   "id": "db9ed1d3-a480-482d-b691-2ea8dcbe26e3",
   "metadata": {},
   "source": [
    "## Confusion matrix"
   ]
  },
  {
   "cell_type": "code",
   "execution_count": 18,
   "id": "7c3c888f-5990-44fc-a07f-a65a55e35bed",
   "metadata": {},
   "outputs": [
    {
     "data": {
      "image/png": "[encoded data removed]",
      "text/plain": [
       "<Figure size 600x300 with 2 Axes>"
      ]
     },
     "metadata": {},
     "output_type": "display_data"
    }
   ],
   "source": [
    "cm = confusion_matrix(y_test, y_pred)\n",
    "\n",
    "plt.figure(figsize = (6,3))\n",
    "plt.title('Confusion matrix')\n",
    "cfm_plot = sn.heatmap(cm, annot=True, fmt='g')\n",
    "plt.show()\n",
    "cfm_plot.figure.savefig(\"cfm-10-neurons.png\")"
   ]
  },
  {
   "cell_type": "code",
   "execution_count": null,
   "id": "bfbf1fa9-4299-4b0c-a77a-e8c505df8293",
   "metadata": {},
   "outputs": [],
   "source": []
  }
 ],
 "metadata": {
  "kernelspec": {
   "display_name": "Python 3 (ipykernel)",
   "language": "python",
   "name": "python3"
  },
  "language_info": {
   "codemirror_mode": {
    "name": "ipython",
    "version": 3
   },
   "file_extension": ".py",
   "mimetype": "text/x-python",
   "name": "python",
   "nbconvert_exporter": "python",
   "pygments_lexer": "ipython3",
   "version": "3.10.10"
  }
 },
 "nbformat": 4,
 "nbformat_minor": 5
}
